{
 "cells": [
  {
   "cell_type": "code",
   "execution_count": 1,
   "id": "df7362fc",
   "metadata": {},
   "outputs": [
    {
     "data": {
      "text/html": [
       "<div>\n",
       "<style scoped>\n",
       "    .dataframe tbody tr th:only-of-type {\n",
       "        vertical-align: middle;\n",
       "    }\n",
       "\n",
       "    .dataframe tbody tr th {\n",
       "        vertical-align: top;\n",
       "    }\n",
       "\n",
       "    .dataframe thead th {\n",
       "        text-align: right;\n",
       "    }\n",
       "</style>\n",
       "<table border=\"1\" class=\"dataframe\">\n",
       "  <thead>\n",
       "    <tr style=\"text-align: right;\">\n",
       "      <th></th>\n",
       "      <th>Genre</th>\n",
       "      <th>Age</th>\n",
       "      <th>Tirage score</th>\n",
       "      <th>Arrival mode</th>\n",
       "      <th>Time of admission</th>\n",
       "    </tr>\n",
       "  </thead>\n",
       "  <tbody>\n",
       "    <tr>\n",
       "      <th>0</th>\n",
       "      <td>M</td>\n",
       "      <td>NaN</td>\n",
       "      <td>NaN</td>\n",
       "      <td>NaN</td>\n",
       "      <td>NaN</td>\n",
       "    </tr>\n",
       "    <tr>\n",
       "      <th>1</th>\n",
       "      <td>M</td>\n",
       "      <td>NaN</td>\n",
       "      <td>NaN</td>\n",
       "      <td>NaN</td>\n",
       "      <td>NaN</td>\n",
       "    </tr>\n",
       "    <tr>\n",
       "      <th>2</th>\n",
       "      <td>M</td>\n",
       "      <td>NaN</td>\n",
       "      <td>NaN</td>\n",
       "      <td>NaN</td>\n",
       "      <td>NaN</td>\n",
       "    </tr>\n",
       "    <tr>\n",
       "      <th>3</th>\n",
       "      <td>M</td>\n",
       "      <td>NaN</td>\n",
       "      <td>NaN</td>\n",
       "      <td>NaN</td>\n",
       "      <td>NaN</td>\n",
       "    </tr>\n",
       "    <tr>\n",
       "      <th>4</th>\n",
       "      <td>F</td>\n",
       "      <td>NaN</td>\n",
       "      <td>NaN</td>\n",
       "      <td>NaN</td>\n",
       "      <td>NaN</td>\n",
       "    </tr>\n",
       "  </tbody>\n",
       "</table>\n",
       "</div>"
      ],
      "text/plain": [
       "  Genre  Age Tirage score Arrival mode Time of admission\n",
       "0     M  NaN          NaN          NaN               NaN\n",
       "1     M  NaN          NaN          NaN               NaN\n",
       "2     M  NaN          NaN          NaN               NaN\n",
       "3     M  NaN          NaN          NaN               NaN\n",
       "4     F  NaN          NaN          NaN               NaN"
      ]
     },
     "execution_count": 1,
     "metadata": {},
     "output_type": "execute_result"
    }
   ],
   "source": [
    "import sys\n",
    "sys.path.append('/home/brunelle/anaconda3/envs/env_two/lib/python3.9/site-packages')\n",
    "\n",
    "import pandas as pd\n",
    "import numpy as np\n",
    "import seaborn as sns\n",
    "import matplotlib.pyplot as plt\n",
    "\n",
    "# Création d'un DataFrame vide avec une colonne 'Genre'\n",
    "df = pd.DataFrame(columns=['Genre', 'Age', 'Tirage score', 'Arrival mode', 'Time of admission'])\n",
    "\n",
    "# Définir la répartition des genres\n",
    "proportions = {'M': 51.8, 'F': 48.2}\n",
    "\n",
    "# Nombre total de lignes dans le dataset\n",
    "total_rows = 496172\n",
    "\n",
    "# Calculer le nombre de lignes pour chaque genre\n",
    "num_males = int(total_rows * proportions['M'] / 100)\n",
    "num_females = total_rows - num_males\n",
    "\n",
    "# Générer les données pour le genre en utilisant numpy.random.choice()\n",
    "gender_data = np.random.choice(['M', 'F'], size=total_rows, p=[proportions['M'] / 100, proportions['F'] / 100])\n",
    "\n",
    "# Assigner les données au DataFrame\n",
    "df['Genre'] = gender_data\n",
    "\n",
    "df.head()\n"
   ]
  },
  {
   "cell_type": "code",
   "execution_count": 2,
   "id": "93f461de",
   "metadata": {},
   "outputs": [
    {
     "data": {
      "text/html": [
       "<div>\n",
       "<style scoped>\n",
       "    .dataframe tbody tr th:only-of-type {\n",
       "        vertical-align: middle;\n",
       "    }\n",
       "\n",
       "    .dataframe tbody tr th {\n",
       "        vertical-align: top;\n",
       "    }\n",
       "\n",
       "    .dataframe thead th {\n",
       "        text-align: right;\n",
       "    }\n",
       "</style>\n",
       "<table border=\"1\" class=\"dataframe\">\n",
       "  <thead>\n",
       "    <tr style=\"text-align: right;\">\n",
       "      <th></th>\n",
       "      <th>Genre</th>\n",
       "      <th>Age</th>\n",
       "      <th>Tirage score</th>\n",
       "      <th>Arrival mode</th>\n",
       "      <th>Time of admission</th>\n",
       "    </tr>\n",
       "  </thead>\n",
       "  <tbody>\n",
       "    <tr>\n",
       "      <th>0</th>\n",
       "      <td>M</td>\n",
       "      <td>NaN</td>\n",
       "      <td>Green</td>\n",
       "      <td>NaN</td>\n",
       "      <td>NaN</td>\n",
       "    </tr>\n",
       "    <tr>\n",
       "      <th>1</th>\n",
       "      <td>M</td>\n",
       "      <td>NaN</td>\n",
       "      <td>Green</td>\n",
       "      <td>NaN</td>\n",
       "      <td>NaN</td>\n",
       "    </tr>\n",
       "    <tr>\n",
       "      <th>2</th>\n",
       "      <td>M</td>\n",
       "      <td>NaN</td>\n",
       "      <td>Green</td>\n",
       "      <td>NaN</td>\n",
       "      <td>NaN</td>\n",
       "    </tr>\n",
       "    <tr>\n",
       "      <th>3</th>\n",
       "      <td>M</td>\n",
       "      <td>NaN</td>\n",
       "      <td>Green</td>\n",
       "      <td>NaN</td>\n",
       "      <td>NaN</td>\n",
       "    </tr>\n",
       "    <tr>\n",
       "      <th>4</th>\n",
       "      <td>F</td>\n",
       "      <td>NaN</td>\n",
       "      <td>Green</td>\n",
       "      <td>NaN</td>\n",
       "      <td>NaN</td>\n",
       "    </tr>\n",
       "  </tbody>\n",
       "</table>\n",
       "</div>"
      ],
      "text/plain": [
       "  Genre  Age Tirage score Arrival mode Time of admission\n",
       "0     M  NaN        Green          NaN               NaN\n",
       "1     M  NaN        Green          NaN               NaN\n",
       "2     M  NaN        Green          NaN               NaN\n",
       "3     M  NaN        Green          NaN               NaN\n",
       "4     F  NaN        Green          NaN               NaN"
      ]
     },
     "execution_count": 2,
     "metadata": {},
     "output_type": "execute_result"
    }
   ],
   "source": [
    "import pandas as pd\n",
    "import numpy as np\n",
    "\n",
    "\n",
    "# Définir la répartition des tirages scores\n",
    "proportions = {'White': 4.4, 'Green': 82.5, 'Yellow': 11.8, 'Red': 1.1, 'Black': 0.1}\n",
    "\n",
    "# Calculer le nombre de lignes pour chaque tirage score\n",
    "num_white = int(total_rows * proportions['White'] / 100)\n",
    "num_green = int(total_rows * proportions['Green'] / 100)\n",
    "num_yellow = int(total_rows * proportions['Yellow'] / 100)\n",
    "num_red = int(total_rows * proportions['Red'] / 100)\n",
    "num_black = total_rows - num_white - num_green - num_yellow - num_red\n",
    "\n",
    "total_proportion = sum(proportions.values())\n",
    "normalized_proportions = {key: value / total_proportion for key, value in proportions.items()}\n",
    "\n",
    "\n",
    "# Générer les données pour le tirage score en utilisant numpy.random.choice()\n",
    "tirage_score_data = np.random.choice(['White', 'Green', 'Yellow', 'Red', 'Black'], \n",
    "                                     size=total_rows, \n",
    "                                     p=[normalized_proportions['White'],\n",
    "                                        normalized_proportions['Green'],\n",
    "                                        normalized_proportions['Yellow'],\n",
    "                                        normalized_proportions['Red'],\n",
    "                                        normalized_proportions['Black']])\n",
    "# Assigner les données au DataFrame\n",
    "df['Tirage score'] = tirage_score_data\n",
    "df.head()\n"
   ]
  },
  {
   "cell_type": "code",
   "execution_count": 3,
   "id": "6476f48d",
   "metadata": {},
   "outputs": [
    {
     "data": {
      "text/html": [
       "<div>\n",
       "<style scoped>\n",
       "    .dataframe tbody tr th:only-of-type {\n",
       "        vertical-align: middle;\n",
       "    }\n",
       "\n",
       "    .dataframe tbody tr th {\n",
       "        vertical-align: top;\n",
       "    }\n",
       "\n",
       "    .dataframe thead th {\n",
       "        text-align: right;\n",
       "    }\n",
       "</style>\n",
       "<table border=\"1\" class=\"dataframe\">\n",
       "  <thead>\n",
       "    <tr style=\"text-align: right;\">\n",
       "      <th></th>\n",
       "      <th>Genre</th>\n",
       "      <th>Age</th>\n",
       "      <th>Tirage score</th>\n",
       "      <th>Arrival mode</th>\n",
       "      <th>Time of admission</th>\n",
       "    </tr>\n",
       "  </thead>\n",
       "  <tbody>\n",
       "    <tr>\n",
       "      <th>0</th>\n",
       "      <td>M</td>\n",
       "      <td>NaN</td>\n",
       "      <td>Green</td>\n",
       "      <td>Autonomous</td>\n",
       "      <td>NaN</td>\n",
       "    </tr>\n",
       "    <tr>\n",
       "      <th>1</th>\n",
       "      <td>M</td>\n",
       "      <td>NaN</td>\n",
       "      <td>Green</td>\n",
       "      <td>Autonomous</td>\n",
       "      <td>NaN</td>\n",
       "    </tr>\n",
       "    <tr>\n",
       "      <th>2</th>\n",
       "      <td>M</td>\n",
       "      <td>NaN</td>\n",
       "      <td>Green</td>\n",
       "      <td>Autonomous</td>\n",
       "      <td>NaN</td>\n",
       "    </tr>\n",
       "    <tr>\n",
       "      <th>3</th>\n",
       "      <td>M</td>\n",
       "      <td>NaN</td>\n",
       "      <td>Green</td>\n",
       "      <td>Autonomous</td>\n",
       "      <td>NaN</td>\n",
       "    </tr>\n",
       "    <tr>\n",
       "      <th>4</th>\n",
       "      <td>F</td>\n",
       "      <td>NaN</td>\n",
       "      <td>Green</td>\n",
       "      <td>Autonomous</td>\n",
       "      <td>NaN</td>\n",
       "    </tr>\n",
       "  </tbody>\n",
       "</table>\n",
       "</div>"
      ],
      "text/plain": [
       "  Genre  Age Tirage score Arrival mode Time of admission\n",
       "0     M  NaN        Green   Autonomous               NaN\n",
       "1     M  NaN        Green   Autonomous               NaN\n",
       "2     M  NaN        Green   Autonomous               NaN\n",
       "3     M  NaN        Green   Autonomous               NaN\n",
       "4     F  NaN        Green   Autonomous               NaN"
      ]
     },
     "execution_count": 3,
     "metadata": {},
     "output_type": "execute_result"
    }
   ],
   "source": [
    "\n",
    "# Définir la répartition des modes d'arrivée\n",
    "proportions = {'Autonomous': 82.6, 'Via ambulance': 17.4}\n",
    "\n",
    "# Normaliser les proportions pour qu'elles totalisent 1\n",
    "total_proportion = sum(proportions.values())\n",
    "normalized_proportions = {key: value / total_proportion for key, value in proportions.items()}\n",
    "\n",
    "# Générer les données pour le mode d'arrivée en utilisant numpy.random.choice()\n",
    "arrival_mode_data = np.random.choice(['Autonomous', 'Via ambulance'], \n",
    "                                     size=total_rows, \n",
    "                                     p=[normalized_proportions['Autonomous'],\n",
    "                                        normalized_proportions['Via ambulance']])\n",
    "\n",
    "# Assigner les données au DataFrame\n",
    "df['Arrival mode'] = arrival_mode_data\n",
    "df.head()\n"
   ]
  },
  {
   "cell_type": "code",
   "execution_count": 4,
   "id": "80cb3069",
   "metadata": {},
   "outputs": [
    {
     "data": {
      "text/html": [
       "<div>\n",
       "<style scoped>\n",
       "    .dataframe tbody tr th:only-of-type {\n",
       "        vertical-align: middle;\n",
       "    }\n",
       "\n",
       "    .dataframe tbody tr th {\n",
       "        vertical-align: top;\n",
       "    }\n",
       "\n",
       "    .dataframe thead th {\n",
       "        text-align: right;\n",
       "    }\n",
       "</style>\n",
       "<table border=\"1\" class=\"dataframe\">\n",
       "  <thead>\n",
       "    <tr style=\"text-align: right;\">\n",
       "      <th></th>\n",
       "      <th>Genre</th>\n",
       "      <th>Age</th>\n",
       "      <th>Tirage score</th>\n",
       "      <th>Arrival mode</th>\n",
       "      <th>Time of admission</th>\n",
       "    </tr>\n",
       "  </thead>\n",
       "  <tbody>\n",
       "    <tr>\n",
       "      <th>0</th>\n",
       "      <td>M</td>\n",
       "      <td>NaN</td>\n",
       "      <td>Green</td>\n",
       "      <td>Autonomous</td>\n",
       "      <td>18:00–24:00</td>\n",
       "    </tr>\n",
       "    <tr>\n",
       "      <th>1</th>\n",
       "      <td>M</td>\n",
       "      <td>NaN</td>\n",
       "      <td>Green</td>\n",
       "      <td>Autonomous</td>\n",
       "      <td>12:00–18:00</td>\n",
       "    </tr>\n",
       "    <tr>\n",
       "      <th>2</th>\n",
       "      <td>M</td>\n",
       "      <td>NaN</td>\n",
       "      <td>Green</td>\n",
       "      <td>Autonomous</td>\n",
       "      <td>06:00–12:00</td>\n",
       "    </tr>\n",
       "    <tr>\n",
       "      <th>3</th>\n",
       "      <td>M</td>\n",
       "      <td>NaN</td>\n",
       "      <td>Green</td>\n",
       "      <td>Autonomous</td>\n",
       "      <td>12:00–18:00</td>\n",
       "    </tr>\n",
       "    <tr>\n",
       "      <th>4</th>\n",
       "      <td>F</td>\n",
       "      <td>NaN</td>\n",
       "      <td>Green</td>\n",
       "      <td>Autonomous</td>\n",
       "      <td>0:00–6:00</td>\n",
       "    </tr>\n",
       "  </tbody>\n",
       "</table>\n",
       "</div>"
      ],
      "text/plain": [
       "  Genre  Age Tirage score Arrival mode Time of admission\n",
       "0     M  NaN        Green   Autonomous       18:00–24:00\n",
       "1     M  NaN        Green   Autonomous       12:00–18:00\n",
       "2     M  NaN        Green   Autonomous       06:00–12:00\n",
       "3     M  NaN        Green   Autonomous       12:00–18:00\n",
       "4     F  NaN        Green   Autonomous         0:00–6:00"
      ]
     },
     "execution_count": 4,
     "metadata": {},
     "output_type": "execute_result"
    }
   ],
   "source": [
    "# Définir la répartition des plages horaires d'admission\n",
    "proportions = {'0:00–6:00': 7.9, '06:00–12:00': 36.3, '12:00–18:00': 36.6, '18:00–24:00': 19.2}\n",
    "\n",
    "# Normaliser les proportions pour qu'elles totalisent 1\n",
    "total_proportion = sum(proportions.values())\n",
    "normalized_proportions = {key: value / total_proportion for key, value in proportions.items()}\n",
    "\n",
    "# Générer les données pour l'heure d'admission en utilisant numpy.random.choice()\n",
    "time_of_admission_data = np.random.choice(list(proportions.keys()), \n",
    "                                          size=total_rows, \n",
    "                                          p=list(normalized_proportions.values()))\n",
    "\n",
    "# Assigner les données au DataFrame\n",
    "df['Time of admission'] = time_of_admission_data\n",
    "df.head()\n"
   ]
  },
  {
   "cell_type": "code",
   "execution_count": 5,
   "id": "326e9ba3",
   "metadata": {},
   "outputs": [
    {
     "data": {
      "text/html": [
       "<div>\n",
       "<style scoped>\n",
       "    .dataframe tbody tr th:only-of-type {\n",
       "        vertical-align: middle;\n",
       "    }\n",
       "\n",
       "    .dataframe tbody tr th {\n",
       "        vertical-align: top;\n",
       "    }\n",
       "\n",
       "    .dataframe thead th {\n",
       "        text-align: right;\n",
       "    }\n",
       "</style>\n",
       "<table border=\"1\" class=\"dataframe\">\n",
       "  <thead>\n",
       "    <tr style=\"text-align: right;\">\n",
       "      <th></th>\n",
       "      <th>Genre</th>\n",
       "      <th>Age</th>\n",
       "      <th>Tirage score</th>\n",
       "      <th>Arrival mode</th>\n",
       "      <th>Time of admission</th>\n",
       "    </tr>\n",
       "  </thead>\n",
       "  <tbody>\n",
       "    <tr>\n",
       "      <th>0</th>\n",
       "      <td>M</td>\n",
       "      <td>17</td>\n",
       "      <td>Green</td>\n",
       "      <td>Autonomous</td>\n",
       "      <td>18:00–24:00</td>\n",
       "    </tr>\n",
       "    <tr>\n",
       "      <th>1</th>\n",
       "      <td>M</td>\n",
       "      <td>53</td>\n",
       "      <td>Green</td>\n",
       "      <td>Autonomous</td>\n",
       "      <td>12:00–18:00</td>\n",
       "    </tr>\n",
       "    <tr>\n",
       "      <th>2</th>\n",
       "      <td>M</td>\n",
       "      <td>16</td>\n",
       "      <td>Green</td>\n",
       "      <td>Autonomous</td>\n",
       "      <td>06:00–12:00</td>\n",
       "    </tr>\n",
       "    <tr>\n",
       "      <th>3</th>\n",
       "      <td>M</td>\n",
       "      <td>99</td>\n",
       "      <td>Green</td>\n",
       "      <td>Autonomous</td>\n",
       "      <td>12:00–18:00</td>\n",
       "    </tr>\n",
       "    <tr>\n",
       "      <th>4</th>\n",
       "      <td>F</td>\n",
       "      <td>15</td>\n",
       "      <td>Green</td>\n",
       "      <td>Autonomous</td>\n",
       "      <td>0:00–6:00</td>\n",
       "    </tr>\n",
       "  </tbody>\n",
       "</table>\n",
       "</div>"
      ],
      "text/plain": [
       "  Genre  Age Tirage score Arrival mode Time of admission\n",
       "0     M   17        Green   Autonomous       18:00–24:00\n",
       "1     M   53        Green   Autonomous       12:00–18:00\n",
       "2     M   16        Green   Autonomous       06:00–12:00\n",
       "3     M   99        Green   Autonomous       12:00–18:00\n",
       "4     F   15        Green   Autonomous         0:00–6:00"
      ]
     },
     "execution_count": 5,
     "metadata": {},
     "output_type": "execute_result"
    }
   ],
   "source": [
    "total_rows = 496172\n",
    "# Générer les données pour la colonne 'Age' en fonction des plages d'âge spécifiées\n",
    "age_data = []\n",
    "for _ in range(total_rows):\n",
    "    rand_age = None\n",
    "    age_group = np.random.choice(['under 19', '10–40', '41–64', 'over 64'])\n",
    "    if age_group == 'under 19':\n",
    "        rand_age = np.random.randint(0, 19)\n",
    "    elif age_group == '10–40':\n",
    "        rand_age = np.random.randint(10, 41)\n",
    "    elif age_group == '41–64':\n",
    "        rand_age = np.random.randint(41, 65)\n",
    "    elif age_group == 'over 64':\n",
    "        rand_age = np.random.randint(65, 101)\n",
    "    age_data.append(rand_age)\n",
    "\n",
    "# Assigner les données au DataFrame\n",
    "df['Age'] = age_data\n",
    "df.head()"
   ]
  },
  {
   "cell_type": "code",
   "execution_count": 6,
   "id": "b4c67ed8",
   "metadata": {},
   "outputs": [
    {
     "data": {
      "text/html": [
       "<div>\n",
       "<style scoped>\n",
       "    .dataframe tbody tr th:only-of-type {\n",
       "        vertical-align: middle;\n",
       "    }\n",
       "\n",
       "    .dataframe tbody tr th {\n",
       "        vertical-align: top;\n",
       "    }\n",
       "\n",
       "    .dataframe thead th {\n",
       "        text-align: right;\n",
       "    }\n",
       "</style>\n",
       "<table border=\"1\" class=\"dataframe\">\n",
       "  <thead>\n",
       "    <tr style=\"text-align: right;\">\n",
       "      <th></th>\n",
       "      <th>Genre</th>\n",
       "      <th>Age</th>\n",
       "      <th>Tirage score</th>\n",
       "      <th>Arrival mode</th>\n",
       "      <th>Time of admission</th>\n",
       "    </tr>\n",
       "  </thead>\n",
       "  <tbody>\n",
       "    <tr>\n",
       "      <th>0</th>\n",
       "      <td>M</td>\n",
       "      <td>17</td>\n",
       "      <td>Green</td>\n",
       "      <td>Autonomous</td>\n",
       "      <td>18:00–24:00</td>\n",
       "    </tr>\n",
       "    <tr>\n",
       "      <th>1</th>\n",
       "      <td>M</td>\n",
       "      <td>53</td>\n",
       "      <td>Green</td>\n",
       "      <td>Autonomous</td>\n",
       "      <td>12:00–18:00</td>\n",
       "    </tr>\n",
       "    <tr>\n",
       "      <th>2</th>\n",
       "      <td>M</td>\n",
       "      <td>16</td>\n",
       "      <td>Green</td>\n",
       "      <td>Autonomous</td>\n",
       "      <td>06:00–12:00</td>\n",
       "    </tr>\n",
       "    <tr>\n",
       "      <th>3</th>\n",
       "      <td>M</td>\n",
       "      <td>99</td>\n",
       "      <td>Green</td>\n",
       "      <td>Autonomous</td>\n",
       "      <td>12:00–18:00</td>\n",
       "    </tr>\n",
       "    <tr>\n",
       "      <th>4</th>\n",
       "      <td>F</td>\n",
       "      <td>15</td>\n",
       "      <td>Green</td>\n",
       "      <td>Autonomous</td>\n",
       "      <td>0:00–6:00</td>\n",
       "    </tr>\n",
       "    <tr>\n",
       "      <th>...</th>\n",
       "      <td>...</td>\n",
       "      <td>...</td>\n",
       "      <td>...</td>\n",
       "      <td>...</td>\n",
       "      <td>...</td>\n",
       "    </tr>\n",
       "    <tr>\n",
       "      <th>496167</th>\n",
       "      <td>F</td>\n",
       "      <td>10</td>\n",
       "      <td>Green</td>\n",
       "      <td>Autonomous</td>\n",
       "      <td>12:00–18:00</td>\n",
       "    </tr>\n",
       "    <tr>\n",
       "      <th>496168</th>\n",
       "      <td>M</td>\n",
       "      <td>1</td>\n",
       "      <td>Green</td>\n",
       "      <td>Autonomous</td>\n",
       "      <td>06:00–12:00</td>\n",
       "    </tr>\n",
       "    <tr>\n",
       "      <th>496169</th>\n",
       "      <td>F</td>\n",
       "      <td>5</td>\n",
       "      <td>Green</td>\n",
       "      <td>Via ambulance</td>\n",
       "      <td>12:00–18:00</td>\n",
       "    </tr>\n",
       "    <tr>\n",
       "      <th>496170</th>\n",
       "      <td>M</td>\n",
       "      <td>96</td>\n",
       "      <td>Green</td>\n",
       "      <td>Autonomous</td>\n",
       "      <td>06:00–12:00</td>\n",
       "    </tr>\n",
       "    <tr>\n",
       "      <th>496171</th>\n",
       "      <td>M</td>\n",
       "      <td>70</td>\n",
       "      <td>Green</td>\n",
       "      <td>Via ambulance</td>\n",
       "      <td>12:00–18:00</td>\n",
       "    </tr>\n",
       "  </tbody>\n",
       "</table>\n",
       "<p>496172 rows × 5 columns</p>\n",
       "</div>"
      ],
      "text/plain": [
       "       Genre  Age Tirage score   Arrival mode Time of admission\n",
       "0          M   17        Green     Autonomous       18:00–24:00\n",
       "1          M   53        Green     Autonomous       12:00–18:00\n",
       "2          M   16        Green     Autonomous       06:00–12:00\n",
       "3          M   99        Green     Autonomous       12:00–18:00\n",
       "4          F   15        Green     Autonomous         0:00–6:00\n",
       "...      ...  ...          ...            ...               ...\n",
       "496167     F   10        Green     Autonomous       12:00–18:00\n",
       "496168     M    1        Green     Autonomous       06:00–12:00\n",
       "496169     F    5        Green  Via ambulance       12:00–18:00\n",
       "496170     M   96        Green     Autonomous       06:00–12:00\n",
       "496171     M   70        Green  Via ambulance       12:00–18:00\n",
       "\n",
       "[496172 rows x 5 columns]"
      ]
     },
     "execution_count": 6,
     "metadata": {},
     "output_type": "execute_result"
    }
   ],
   "source": [
    "df"
   ]
  },
  {
   "cell_type": "code",
   "execution_count": 7,
   "id": "397dec4c",
   "metadata": {},
   "outputs": [],
   "source": [
    "df.drop(columns=['Time of admission'], inplace=True)\n"
   ]
  },
  {
   "cell_type": "code",
   "execution_count": null,
   "id": "5156b46d",
   "metadata": {
    "scrolled": true
   },
   "outputs": [],
   "source": []
  },
  {
   "cell_type": "code",
   "execution_count": 8,
   "id": "189f6c31",
   "metadata": {},
   "outputs": [],
   "source": [
    "df.reset_index(drop=True, inplace=True)\n"
   ]
  },
  {
   "cell_type": "code",
   "execution_count": null,
   "id": "b9b4ff17",
   "metadata": {},
   "outputs": [],
   "source": []
  },
  {
   "cell_type": "code",
   "execution_count": 9,
   "id": "76eed811",
   "metadata": {},
   "outputs": [],
   "source": [
    "df.reset_index(drop=True, inplace=True)"
   ]
  },
  {
   "cell_type": "code",
   "execution_count": 10,
   "id": "8fc29f50",
   "metadata": {},
   "outputs": [
    {
     "data": {
      "text/html": [
       "<div>\n",
       "<style scoped>\n",
       "    .dataframe tbody tr th:only-of-type {\n",
       "        vertical-align: middle;\n",
       "    }\n",
       "\n",
       "    .dataframe tbody tr th {\n",
       "        vertical-align: top;\n",
       "    }\n",
       "\n",
       "    .dataframe thead th {\n",
       "        text-align: right;\n",
       "    }\n",
       "</style>\n",
       "<table border=\"1\" class=\"dataframe\">\n",
       "  <thead>\n",
       "    <tr style=\"text-align: right;\">\n",
       "      <th></th>\n",
       "      <th>Genre</th>\n",
       "      <th>Age</th>\n",
       "      <th>Tirage score</th>\n",
       "      <th>Arrival mode</th>\n",
       "      <th>Time of admission</th>\n",
       "    </tr>\n",
       "  </thead>\n",
       "  <tbody>\n",
       "    <tr>\n",
       "      <th>0</th>\n",
       "      <td>M</td>\n",
       "      <td>17</td>\n",
       "      <td>Green</td>\n",
       "      <td>Autonomous</td>\n",
       "      <td>12:00–18:00</td>\n",
       "    </tr>\n",
       "    <tr>\n",
       "      <th>1</th>\n",
       "      <td>M</td>\n",
       "      <td>53</td>\n",
       "      <td>Green</td>\n",
       "      <td>Autonomous</td>\n",
       "      <td>12:00–18:00</td>\n",
       "    </tr>\n",
       "    <tr>\n",
       "      <th>2</th>\n",
       "      <td>M</td>\n",
       "      <td>16</td>\n",
       "      <td>Green</td>\n",
       "      <td>Autonomous</td>\n",
       "      <td>0:00–6:00</td>\n",
       "    </tr>\n",
       "    <tr>\n",
       "      <th>3</th>\n",
       "      <td>M</td>\n",
       "      <td>99</td>\n",
       "      <td>Green</td>\n",
       "      <td>Autonomous</td>\n",
       "      <td>12:00–18:00</td>\n",
       "    </tr>\n",
       "    <tr>\n",
       "      <th>4</th>\n",
       "      <td>F</td>\n",
       "      <td>15</td>\n",
       "      <td>Green</td>\n",
       "      <td>Autonomous</td>\n",
       "      <td>18:00–24:00</td>\n",
       "    </tr>\n",
       "  </tbody>\n",
       "</table>\n",
       "</div>"
      ],
      "text/plain": [
       "  Genre  Age Tirage score Arrival mode Time of admission\n",
       "0     M   17        Green   Autonomous       12:00–18:00\n",
       "1     M   53        Green   Autonomous       12:00–18:00\n",
       "2     M   16        Green   Autonomous         0:00–6:00\n",
       "3     M   99        Green   Autonomous       12:00–18:00\n",
       "4     F   15        Green   Autonomous       18:00–24:00"
      ]
     },
     "execution_count": 10,
     "metadata": {},
     "output_type": "execute_result"
    }
   ],
   "source": [
    "# Pourcentages spécifiques pour chaque plage horaire\n",
    "time_percentages = {'0:00–6:00': 7.9, '06:00–12:00': 36.3, '12:00–18:00': 36.6, '18:00–24:00': 19.2}\n",
    "\n",
    "# Calculer le nombre total d'individus à générer\n",
    "total_individuals = total_rows\n",
    "#Normaliser les proportions pour qu'elles totalisent 1\n",
    "total_proportion = sum(time_percentages.values())\n",
    "normalized_proportions = {key: value / total_proportion for key, value in time_percentages.items()}\n",
    "\n",
    "# Générer les données pour l'heure d'admission en utilisant numpy.random.choice()\n",
    "time_data = np.random.choice(list(time_percentages.keys()), \n",
    "                             size=total_rows, \n",
    "                             p=list(normalized_proportions.values()))\n",
    "\n",
    "    \n",
    "# Assigner les données au DataFrame\n",
    "df['Time of admission'] = time_data\n",
    "df.head()"
   ]
  },
  {
   "cell_type": "code",
   "execution_count": 11,
   "id": "95f43edc",
   "metadata": {},
   "outputs": [
    {
     "data": {
      "text/html": [
       "<div>\n",
       "<style scoped>\n",
       "    .dataframe tbody tr th:only-of-type {\n",
       "        vertical-align: middle;\n",
       "    }\n",
       "\n",
       "    .dataframe tbody tr th {\n",
       "        vertical-align: top;\n",
       "    }\n",
       "\n",
       "    .dataframe thead th {\n",
       "        text-align: right;\n",
       "    }\n",
       "</style>\n",
       "<table border=\"1\" class=\"dataframe\">\n",
       "  <thead>\n",
       "    <tr style=\"text-align: right;\">\n",
       "      <th></th>\n",
       "      <th>Genre</th>\n",
       "      <th>Age</th>\n",
       "      <th>Tirage score</th>\n",
       "      <th>Arrival mode</th>\n",
       "      <th>Time of admission</th>\n",
       "    </tr>\n",
       "  </thead>\n",
       "  <tbody>\n",
       "    <tr>\n",
       "      <th>0</th>\n",
       "      <td>M</td>\n",
       "      <td>17</td>\n",
       "      <td>Green</td>\n",
       "      <td>Autonomous</td>\n",
       "      <td>12:00–18:00</td>\n",
       "    </tr>\n",
       "    <tr>\n",
       "      <th>1</th>\n",
       "      <td>M</td>\n",
       "      <td>53</td>\n",
       "      <td>Green</td>\n",
       "      <td>Autonomous</td>\n",
       "      <td>12:00–18:00</td>\n",
       "    </tr>\n",
       "    <tr>\n",
       "      <th>2</th>\n",
       "      <td>M</td>\n",
       "      <td>16</td>\n",
       "      <td>Green</td>\n",
       "      <td>Autonomous</td>\n",
       "      <td>0:00–6:00</td>\n",
       "    </tr>\n",
       "    <tr>\n",
       "      <th>3</th>\n",
       "      <td>M</td>\n",
       "      <td>99</td>\n",
       "      <td>Green</td>\n",
       "      <td>Autonomous</td>\n",
       "      <td>12:00–18:00</td>\n",
       "    </tr>\n",
       "    <tr>\n",
       "      <th>4</th>\n",
       "      <td>F</td>\n",
       "      <td>15</td>\n",
       "      <td>Green</td>\n",
       "      <td>Autonomous</td>\n",
       "      <td>18:00–24:00</td>\n",
       "    </tr>\n",
       "    <tr>\n",
       "      <th>...</th>\n",
       "      <td>...</td>\n",
       "      <td>...</td>\n",
       "      <td>...</td>\n",
       "      <td>...</td>\n",
       "      <td>...</td>\n",
       "    </tr>\n",
       "    <tr>\n",
       "      <th>496167</th>\n",
       "      <td>F</td>\n",
       "      <td>10</td>\n",
       "      <td>Green</td>\n",
       "      <td>Autonomous</td>\n",
       "      <td>12:00–18:00</td>\n",
       "    </tr>\n",
       "    <tr>\n",
       "      <th>496168</th>\n",
       "      <td>M</td>\n",
       "      <td>1</td>\n",
       "      <td>Green</td>\n",
       "      <td>Autonomous</td>\n",
       "      <td>18:00–24:00</td>\n",
       "    </tr>\n",
       "    <tr>\n",
       "      <th>496169</th>\n",
       "      <td>F</td>\n",
       "      <td>5</td>\n",
       "      <td>Green</td>\n",
       "      <td>Via ambulance</td>\n",
       "      <td>12:00–18:00</td>\n",
       "    </tr>\n",
       "    <tr>\n",
       "      <th>496170</th>\n",
       "      <td>M</td>\n",
       "      <td>96</td>\n",
       "      <td>Green</td>\n",
       "      <td>Autonomous</td>\n",
       "      <td>06:00–12:00</td>\n",
       "    </tr>\n",
       "    <tr>\n",
       "      <th>496171</th>\n",
       "      <td>M</td>\n",
       "      <td>70</td>\n",
       "      <td>Green</td>\n",
       "      <td>Via ambulance</td>\n",
       "      <td>06:00–12:00</td>\n",
       "    </tr>\n",
       "  </tbody>\n",
       "</table>\n",
       "<p>496172 rows × 5 columns</p>\n",
       "</div>"
      ],
      "text/plain": [
       "       Genre  Age Tirage score   Arrival mode Time of admission\n",
       "0          M   17        Green     Autonomous       12:00–18:00\n",
       "1          M   53        Green     Autonomous       12:00–18:00\n",
       "2          M   16        Green     Autonomous         0:00–6:00\n",
       "3          M   99        Green     Autonomous       12:00–18:00\n",
       "4          F   15        Green     Autonomous       18:00–24:00\n",
       "...      ...  ...          ...            ...               ...\n",
       "496167     F   10        Green     Autonomous       12:00–18:00\n",
       "496168     M    1        Green     Autonomous       18:00–24:00\n",
       "496169     F    5        Green  Via ambulance       12:00–18:00\n",
       "496170     M   96        Green     Autonomous       06:00–12:00\n",
       "496171     M   70        Green  Via ambulance       06:00–12:00\n",
       "\n",
       "[496172 rows x 5 columns]"
      ]
     },
     "execution_count": 11,
     "metadata": {},
     "output_type": "execute_result"
    }
   ],
   "source": [
    "df"
   ]
  },
  {
   "cell_type": "code",
   "execution_count": 12,
   "id": "b18b3533",
   "metadata": {},
   "outputs": [
    {
     "name": "stderr",
     "output_type": "stream",
     "text": [
      "/home/brunelle/anaconda3/lib/python3.11/site-packages/seaborn/axisgrid.py:118: UserWarning: The figure layout has changed to tight\n",
      "  self._figure.tight_layout(*args, **kwargs)\n"
     ]
    },
    {
     "data": {
      "text/plain": [
       "<seaborn.axisgrid.FacetGrid at 0x7fe11d13b290>"
      ]
     },
     "execution_count": 12,
     "metadata": {},
     "output_type": "execute_result"
    },
    {
     "data": {
      "image/png": "[encoded data removed]",
      "text/plain": [
       "<Figure size 500x500 with 1 Axes>"
      ]
     },
     "metadata": {},
     "output_type": "display_data"
    }
   ],
   "source": [
    "\n",
    "sns.displot(df['Age'], kde='True', bins='auto')"
   ]
  },
  {
   "cell_type": "code",
   "execution_count": 13,
   "id": "0123788c",
   "metadata": {},
   "outputs": [
    {
     "data": {
      "image/png": "[encoded data removed]",
      "text/plain": [
       "<Figure size 640x480 with 1 Axes>"
      ]
     },
     "metadata": {},
     "output_type": "display_data"
    }
   ],
   "source": [
    "df['Genre'].value_counts().plot(kind='pie',autopct=\"%.2f%%\")\n",
    "plt.show()"
   ]
  },
  {
   "cell_type": "code",
   "execution_count": 14,
   "id": "cd02f5ce",
   "metadata": {},
   "outputs": [
    {
     "data": {
      "text/plain": [
       "<Axes: xlabel='Tirage score', ylabel='count'>"
      ]
     },
     "execution_count": 14,
     "metadata": {},
     "output_type": "execute_result"
    },
    {
     "data": {
      "image/png": "[encoded data removed]",
      "text/plain": [
       "<Figure size 640x480 with 1 Axes>"
      ]
     },
     "metadata": {},
     "output_type": "display_data"
    }
   ],
   "source": [
    "sns.countplot(x='Tirage score',data=df)\n"
   ]
  },
  {
   "cell_type": "code",
   "execution_count": null,
   "id": "88c84d45",
   "metadata": {},
   "outputs": [],
   "source": [
    "\n"
   ]
  },
  {
   "cell_type": "code",
   "execution_count": 16,
   "id": "97c037e4",
   "metadata": {},
   "outputs": [
    {
     "data": {
      "text/plain": [
       "<Axes: xlabel='Arrival mode', ylabel='count'>"
      ]
     },
     "execution_count": 16,
     "metadata": {},
     "output_type": "execute_result"
    },
    {
     "data": {
      "image/png": "[encoded data removed]",
      "text/plain": [
       "<Figure size 640x480 with 1 Axes>"
      ]
     },
     "metadata": {},
     "output_type": "display_data"
    }
   ],
   "source": [
    "sns.countplot(x='Arrival mode', data=df)\n"
   ]
  },
  {
   "cell_type": "code",
   "execution_count": 17,
   "id": "a85d75e3",
   "metadata": {},
   "outputs": [
    {
     "data": {
      "text/plain": [
       "Index(['Genre', 'Age', 'Tirage score', 'Arrival mode', 'Time of admission'], dtype='object')"
      ]
     },
     "execution_count": 17,
     "metadata": {},
     "output_type": "execute_result"
    }
   ],
   "source": [
    "df.columns"
   ]
  },
  {
   "cell_type": "code",
   "execution_count": 18,
   "id": "40488118",
   "metadata": {},
   "outputs": [],
   "source": [
    "from sklearn.preprocessing import LabelEncoder\n"
   ]
  },
  {
   "cell_type": "code",
   "execution_count": 19,
   "id": "bdf501fe",
   "metadata": {},
   "outputs": [],
   "source": [
    "lc=LabelEncoder()\n",
    "cols=['Genre', 'Age', 'Tirage score', 'Arrival mode', 'Time of admission']\n",
    "for i in cols:\n",
    "  df[i]=lc.fit_transform(df[i])"
   ]
  },
  {
   "cell_type": "code",
   "execution_count": 20,
   "id": "d2b09f0b",
   "metadata": {},
   "outputs": [],
   "source": [
    "X=df.drop(['Time of admission'],axis=1)\n",
    "y=df['Time of admission']"
   ]
  },
  {
   "cell_type": "code",
   "execution_count": 23,
   "id": "c7247ba0",
   "metadata": {},
   "outputs": [],
   "source": [
    "from sklearn.model_selection import train_test_split"
   ]
  },
  {
   "cell_type": "code",
   "execution_count": 24,
   "id": "30cdd8b9",
   "metadata": {},
   "outputs": [],
   "source": [
    "from sklearn.metrics import accuracy_score"
   ]
  },
  {
   "cell_type": "code",
   "execution_count": 25,
   "id": "8a762711",
   "metadata": {},
   "outputs": [],
   "source": [
    "X_train, X_test, y_train, y_test = train_test_split(X, y, test_size = .30, random_state = 26)"
   ]
  },
  {
   "cell_type": "code",
   "execution_count": 26,
   "id": "485cbbbf",
   "metadata": {},
   "outputs": [],
   "source": [
    "from sklearn.ensemble import RandomForestClassifier\n"
   ]
  },
  {
   "cell_type": "code",
   "execution_count": 27,
   "id": "0a70c14b",
   "metadata": {},
   "outputs": [
    {
     "data": {
      "text/html": [
       "<style>#sk-container-id-1 {color: black;}#sk-container-id-1 pre{padding: 0;}#sk-container-id-1 div.sk-toggleable {background-color: white;}#sk-container-id-1 label.sk-toggleable__label {cursor: pointer;display: block;width: 100%;margin-bottom: 0;padding: 0.3em;box-sizing: border-box;text-align: center;}#sk-container-id-1 label.sk-toggleable__label-arrow:before {content: \"▸\";float: left;margin-right: 0.25em;color: #696969;}#sk-container-id-1 label.sk-toggleable__label-arrow:hover:before {color: black;}#sk-container-id-1 div.sk-estimator:hover label.sk-toggleable__label-arrow:before {color: black;}#sk-container-id-1 div.sk-toggleable__content {max-height: 0;max-width: 0;overflow: hidden;text-align: left;background-color: #f0f8ff;}#sk-container-id-1 div.sk-toggleable__content pre {margin: 0.2em;color: black;border-radius: 0.25em;background-color: #f0f8ff;}#sk-container-id-1 input.sk-toggleable__control:checked~div.sk-toggleable__content {max-height: 200px;max-width: 100%;overflow: auto;}#sk-container-id-1 input.sk-toggleable__control:checked~label.sk-toggleable__label-arrow:before {content: \"▾\";}#sk-container-id-1 div.sk-estimator input.sk-toggleable__control:checked~label.sk-toggleable__label {background-color: #d4ebff;}#sk-container-id-1 div.sk-label input.sk-toggleable__control:checked~label.sk-toggleable__label {background-color: #d4ebff;}#sk-container-id-1 input.sk-hidden--visually {border: 0;clip: rect(1px 1px 1px 1px);clip: rect(1px, 1px, 1px, 1px);height: 1px;margin: -1px;overflow: hidden;padding: 0;position: absolute;width: 1px;}#sk-container-id-1 div.sk-estimator {font-family: monospace;background-color: #f0f8ff;border: 1px dotted black;border-radius: 0.25em;box-sizing: border-box;margin-bottom: 0.5em;}#sk-container-id-1 div.sk-estimator:hover {background-color: #d4ebff;}#sk-container-id-1 div.sk-parallel-item::after {content: \"\";width: 100%;border-bottom: 1px solid gray;flex-grow: 1;}#sk-container-id-1 div.sk-label:hover label.sk-toggleable__label {background-color: #d4ebff;}#sk-container-id-1 div.sk-serial::before {content: \"\";position: absolute;border-left: 1px solid gray;box-sizing: border-box;top: 0;bottom: 0;left: 50%;z-index: 0;}#sk-container-id-1 div.sk-serial {display: flex;flex-direction: column;align-items: center;background-color: white;padding-right: 0.2em;padding-left: 0.2em;position: relative;}#sk-container-id-1 div.sk-item {position: relative;z-index: 1;}#sk-container-id-1 div.sk-parallel {display: flex;align-items: stretch;justify-content: center;background-color: white;position: relative;}#sk-container-id-1 div.sk-item::before, #sk-container-id-1 div.sk-parallel-item::before {content: \"\";position: absolute;border-left: 1px solid gray;box-sizing: border-box;top: 0;bottom: 0;left: 50%;z-index: -1;}#sk-container-id-1 div.sk-parallel-item {display: flex;flex-direction: column;z-index: 1;position: relative;background-color: white;}#sk-container-id-1 div.sk-parallel-item:first-child::after {align-self: flex-end;width: 50%;}#sk-container-id-1 div.sk-parallel-item:last-child::after {align-self: flex-start;width: 50%;}#sk-container-id-1 div.sk-parallel-item:only-child::after {width: 0;}#sk-container-id-1 div.sk-dashed-wrapped {border: 1px dashed gray;margin: 0 0.4em 0.5em 0.4em;box-sizing: border-box;padding-bottom: 0.4em;background-color: white;}#sk-container-id-1 div.sk-label label {font-family: monospace;font-weight: bold;display: inline-block;line-height: 1.2em;}#sk-container-id-1 div.sk-label-container {text-align: center;}#sk-container-id-1 div.sk-container {/* jupyter's `normalize.less` sets `[hidden] { display: none; }` but bootstrap.min.css set `[hidden] { display: none !important; }` so we also need the `!important` here to be able to override the default hidden behavior on the sphinx rendered scikit-learn.org. See: https://github.com/scikit-learn/scikit-learn/issues/21755 */display: inline-block !important;position: relative;}#sk-container-id-1 div.sk-text-repr-fallback {display: none;}</style><div id=\"sk-container-id-1\" class=\"sk-top-container\"><div class=\"sk-text-repr-fallback\"><pre>RandomForestClassifier()</pre><b>In a Jupyter environment, please rerun this cell to show the HTML representation or trust the notebook. <br />On GitHub, the HTML representation is unable to render, please try loading this page with nbviewer.org.</b></div><div class=\"sk-container\" hidden><div class=\"sk-item\"><div class=\"sk-estimator sk-toggleable\"><input class=\"sk-toggleable__control sk-hidden--visually\" id=\"sk-estimator-id-1\" type=\"checkbox\" checked><label for=\"sk-estimator-id-1\" class=\"sk-toggleable__label sk-toggleable__label-arrow\">RandomForestClassifier</label><div class=\"sk-toggleable__content\"><pre>RandomForestClassifier()</pre></div></div></div></div></div>"
      ],
      "text/plain": [
       "RandomForestClassifier()"
      ]
     },
     "execution_count": 27,
     "metadata": {},
     "output_type": "execute_result"
    }
   ],
   "source": [
    "model1 = RandomForestClassifier(n_estimators=100)\n",
    "model1.fit(X_train,y_train)"
   ]
  },
  {
   "cell_type": "code",
   "execution_count": 28,
   "id": "8f84c7fc",
   "metadata": {},
   "outputs": [
    {
     "data": {
      "text/plain": [
       "0.3613925241179158"
      ]
     },
     "execution_count": 28,
     "metadata": {},
     "output_type": "execute_result"
    }
   ],
   "source": [
    "predictions = model1.predict(X_test)\n",
    "accuracy=accuracy_score(y_test,predictions)\n",
    "accuracy"
   ]
  },
  {
   "cell_type": "code",
   "execution_count": null,
   "id": "872b447d",
   "metadata": {},
   "outputs": [],
   "source": []
  }
 ],
 "metadata": {
  "kernelspec": {
   "display_name": "Python 3 (ipykernel)",
   "language": "python",
   "name": "python3"
  },
  "language_info": {
   "codemirror_mode": {
    "name": "ipython",
    "version": 3
   },
   "file_extension": ".py",
   "mimetype": "text/x-python",
   "name": "python",
   "nbconvert_exporter": "python",
   "pygments_lexer": "ipython3",
   "version": "3.11.5"
  }
 },
 "nbformat": 4,
 "nbformat_minor": 5
}
